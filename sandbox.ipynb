{
 "cells": [
  {
   "cell_type": "code",
   "execution_count": 1,
   "metadata": {},
   "outputs": [],
   "source": [
    "from PIL import Image"
   ]
  },
  {
   "cell_type": "code",
   "execution_count": 106,
   "metadata": {},
   "outputs": [],
   "source": [
    "W=600\n",
    "H=825"
   ]
  },
  {
   "cell_type": "code",
   "execution_count": 151,
   "metadata": {},
   "outputs": [],
   "source": [
    "cards=[Image.open('images/ordered/{i:03d}.png'.format(i=i)) for i in range(1,151)]\n",
    "# base_holos=[Image.open('images/base/{i}_hires.png'.format(i=i)) for i in range(1,17)]\n",
    "# jungle_holos=[Image.open('images/jungle/{i}_hires.png'.format(i=i)) for i in range(1,17)]"
   ]
  },
  {
   "cell_type": "code",
   "execution_count": 169,
   "metadata": {},
   "outputs": [],
   "source": [
    "l_margin=60\n",
    "r_margin=60\n",
    "t_margin=700\n",
    "b_margin=700\n",
    "\n",
    "h_space=10\n",
    "v_space=10"
   ]
  },
  {
   "cell_type": "code",
   "execution_count": 170,
   "metadata": {},
   "outputs": [],
   "source": [
    "wp=Image.new('RGB',(int(3840*4),int(1600*4)),'#154360')"
   ]
  },
  {
   "cell_type": "code",
   "execution_count": 171,
   "metadata": {},
   "outputs": [],
   "source": [
    "for i,card in enumerate(cards):\n",
    "    wp.paste(card,(l_margin+W*(i%25)+h_space*(i%25),t_margin+H*(i//25)+v_space*(i//25)))"
   ]
  },
  {
   "cell_type": "code",
   "execution_count": 173,
   "metadata": {},
   "outputs": [],
   "source": [
    "wp.save('150.png')"
   ]
  },
  {
   "cell_type": "code",
   "execution_count": null,
   "metadata": {},
   "outputs": [],
   "source": []
  }
 ],
 "metadata": {
  "kernelspec": {
   "display_name": "Python 3",
   "language": "python",
   "name": "python3"
  },
  "language_info": {
   "codemirror_mode": {
    "name": "ipython",
    "version": 3
   },
   "file_extension": ".py",
   "mimetype": "text/x-python",
   "name": "python",
   "nbconvert_exporter": "python",
   "pygments_lexer": "ipython3",
   "version": "3.8.2"
  }
 },
 "nbformat": 4,
 "nbformat_minor": 4
}
